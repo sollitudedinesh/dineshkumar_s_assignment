{
 "cells": [
  {
   "cell_type": "code",
   "execution_count": 41,
   "id": "c6cc045c-201e-4563-a9d3-6f42ad1fea97",
   "metadata": {},
   "outputs": [],
   "source": [
    "import pandas as pd\n",
    "import numpy as np\n",
    "import seaborn as sns\n",
    "import matplotlib.pyplot as plt\n",
    "from sklearn.cluster import KMeans\n",
    "from sklearn.decomposition import PCA\n",
    "from sklearn.preprocessing import StandardScaler\n",
    "from sklearn.metrics import silhouette_score"
   ]
  },
  {
   "cell_type": "code",
   "execution_count": 42,
   "id": "b9779cbf-3a29-4484-a2d3-607e0d4ddce9",
   "metadata": {},
   "outputs": [],
   "source": [
    "customer_data = pd.read_csv('./data/Customers.csv')\n",
    "product_data = pd.read_csv('./data/Products.csv')\n",
    "transaction_data = pd.read_csv('./data/Transactions.csv')"
   ]
  },
  {
   "cell_type": "code",
   "execution_count": 43,
   "id": "2d98c858-d4aa-4de6-adfa-72d84d3b2d51",
   "metadata": {},
   "outputs": [],
   "source": [
    "data = pd.merge(transaction_data, customer_data, on=\"CustomerID\")"
   ]
  },
  {
   "cell_type": "code",
   "execution_count": 44,
   "id": "60d2b0ea-a11e-4abf-b0e1-d9c30881d28c",
   "metadata": {},
   "outputs": [
    {
     "data": {
      "text/html": [
       "<div>\n",
       "<style scoped>\n",
       "    .dataframe tbody tr th:only-of-type {\n",
       "        vertical-align: middle;\n",
       "    }\n",
       "\n",
       "    .dataframe tbody tr th {\n",
       "        vertical-align: top;\n",
       "    }\n",
       "\n",
       "    .dataframe thead th {\n",
       "        text-align: right;\n",
       "    }\n",
       "</style>\n",
       "<table border=\"1\" class=\"dataframe\">\n",
       "  <thead>\n",
       "    <tr style=\"text-align: right;\">\n",
       "      <th></th>\n",
       "      <th>TransactionID</th>\n",
       "      <th>CustomerID</th>\n",
       "      <th>ProductID</th>\n",
       "      <th>TransactionDate</th>\n",
       "      <th>Quantity</th>\n",
       "      <th>TotalValue</th>\n",
       "      <th>Price</th>\n",
       "      <th>CustomerName</th>\n",
       "      <th>Region</th>\n",
       "      <th>SignupDate</th>\n",
       "    </tr>\n",
       "  </thead>\n",
       "  <tbody>\n",
       "    <tr>\n",
       "      <th>0</th>\n",
       "      <td>T00001</td>\n",
       "      <td>C0199</td>\n",
       "      <td>P067</td>\n",
       "      <td>2024-08-25 12:38:23</td>\n",
       "      <td>1</td>\n",
       "      <td>300.68</td>\n",
       "      <td>300.68</td>\n",
       "      <td>Andrea Jenkins</td>\n",
       "      <td>Europe</td>\n",
       "      <td>2022-12-03</td>\n",
       "    </tr>\n",
       "    <tr>\n",
       "      <th>1</th>\n",
       "      <td>T00761</td>\n",
       "      <td>C0199</td>\n",
       "      <td>P022</td>\n",
       "      <td>2024-10-01 05:57:09</td>\n",
       "      <td>4</td>\n",
       "      <td>550.16</td>\n",
       "      <td>137.54</td>\n",
       "      <td>Andrea Jenkins</td>\n",
       "      <td>Europe</td>\n",
       "      <td>2022-12-03</td>\n",
       "    </tr>\n",
       "    <tr>\n",
       "      <th>2</th>\n",
       "      <td>T00626</td>\n",
       "      <td>C0199</td>\n",
       "      <td>P079</td>\n",
       "      <td>2024-08-17 12:06:08</td>\n",
       "      <td>2</td>\n",
       "      <td>834.74</td>\n",
       "      <td>417.37</td>\n",
       "      <td>Andrea Jenkins</td>\n",
       "      <td>Europe</td>\n",
       "      <td>2022-12-03</td>\n",
       "    </tr>\n",
       "    <tr>\n",
       "      <th>3</th>\n",
       "      <td>T00963</td>\n",
       "      <td>C0199</td>\n",
       "      <td>P008</td>\n",
       "      <td>2024-10-26 00:01:58</td>\n",
       "      <td>2</td>\n",
       "      <td>293.70</td>\n",
       "      <td>146.85</td>\n",
       "      <td>Andrea Jenkins</td>\n",
       "      <td>Europe</td>\n",
       "      <td>2022-12-03</td>\n",
       "    </tr>\n",
       "    <tr>\n",
       "      <th>4</th>\n",
       "      <td>T00112</td>\n",
       "      <td>C0146</td>\n",
       "      <td>P067</td>\n",
       "      <td>2024-05-27 22:23:54</td>\n",
       "      <td>1</td>\n",
       "      <td>300.68</td>\n",
       "      <td>300.68</td>\n",
       "      <td>Brittany Harvey</td>\n",
       "      <td>Asia</td>\n",
       "      <td>2024-09-04</td>\n",
       "    </tr>\n",
       "  </tbody>\n",
       "</table>\n",
       "</div>"
      ],
      "text/plain": [
       "  TransactionID CustomerID ProductID      TransactionDate  Quantity  \\\n",
       "0        T00001      C0199      P067  2024-08-25 12:38:23         1   \n",
       "1        T00761      C0199      P022  2024-10-01 05:57:09         4   \n",
       "2        T00626      C0199      P079  2024-08-17 12:06:08         2   \n",
       "3        T00963      C0199      P008  2024-10-26 00:01:58         2   \n",
       "4        T00112      C0146      P067  2024-05-27 22:23:54         1   \n",
       "\n",
       "   TotalValue   Price     CustomerName  Region  SignupDate  \n",
       "0      300.68  300.68   Andrea Jenkins  Europe  2022-12-03  \n",
       "1      550.16  137.54   Andrea Jenkins  Europe  2022-12-03  \n",
       "2      834.74  417.37   Andrea Jenkins  Europe  2022-12-03  \n",
       "3      293.70  146.85   Andrea Jenkins  Europe  2022-12-03  \n",
       "4      300.68  300.68  Brittany Harvey    Asia  2024-09-04  "
      ]
     },
     "execution_count": 44,
     "metadata": {},
     "output_type": "execute_result"
    }
   ],
   "source": [
    "data.head()"
   ]
  },
  {
   "cell_type": "code",
   "execution_count": 45,
   "id": "8aa1820a-b25f-419b-b99f-d8847fb94280",
   "metadata": {},
   "outputs": [
    {
     "data": {
      "text/html": [
       "<div>\n",
       "<style scoped>\n",
       "    .dataframe tbody tr th:only-of-type {\n",
       "        vertical-align: middle;\n",
       "    }\n",
       "\n",
       "    .dataframe tbody tr th {\n",
       "        vertical-align: top;\n",
       "    }\n",
       "\n",
       "    .dataframe thead th {\n",
       "        text-align: right;\n",
       "    }\n",
       "</style>\n",
       "<table border=\"1\" class=\"dataframe\">\n",
       "  <thead>\n",
       "    <tr style=\"text-align: right;\">\n",
       "      <th></th>\n",
       "      <th>CustomerID</th>\n",
       "      <th>total_transactions</th>\n",
       "      <th>total_spent</th>\n",
       "      <th>avg_transaction_value</th>\n",
       "      <th>recency</th>\n",
       "      <th>frequency</th>\n",
       "    </tr>\n",
       "  </thead>\n",
       "  <tbody>\n",
       "    <tr>\n",
       "      <th>0</th>\n",
       "      <td>C0001</td>\n",
       "      <td>5</td>\n",
       "      <td>3354.52</td>\n",
       "      <td>670.904</td>\n",
       "      <td>85</td>\n",
       "      <td>374</td>\n",
       "    </tr>\n",
       "    <tr>\n",
       "      <th>1</th>\n",
       "      <td>C0002</td>\n",
       "      <td>4</td>\n",
       "      <td>1862.74</td>\n",
       "      <td>465.685</td>\n",
       "      <td>55</td>\n",
       "      <td>334</td>\n",
       "    </tr>\n",
       "    <tr>\n",
       "      <th>2</th>\n",
       "      <td>C0003</td>\n",
       "      <td>4</td>\n",
       "      <td>2725.38</td>\n",
       "      <td>681.345</td>\n",
       "      <td>155</td>\n",
       "      <td>344</td>\n",
       "    </tr>\n",
       "    <tr>\n",
       "      <th>3</th>\n",
       "      <td>C0004</td>\n",
       "      <td>8</td>\n",
       "      <td>5354.88</td>\n",
       "      <td>669.360</td>\n",
       "      <td>35</td>\n",
       "      <td>334</td>\n",
       "    </tr>\n",
       "    <tr>\n",
       "      <th>4</th>\n",
       "      <td>C0005</td>\n",
       "      <td>3</td>\n",
       "      <td>2034.24</td>\n",
       "      <td>678.080</td>\n",
       "      <td>84</td>\n",
       "      <td>318</td>\n",
       "    </tr>\n",
       "  </tbody>\n",
       "</table>\n",
       "</div>"
      ],
      "text/plain": [
       "  CustomerID  total_transactions  total_spent  avg_transaction_value  recency  \\\n",
       "0      C0001                   5      3354.52                670.904       85   \n",
       "1      C0002                   4      1862.74                465.685       55   \n",
       "2      C0003                   4      2725.38                681.345      155   \n",
       "3      C0004                   8      5354.88                669.360       35   \n",
       "4      C0005                   3      2034.24                678.080       84   \n",
       "\n",
       "   frequency  \n",
       "0        374  \n",
       "1        334  \n",
       "2        344  \n",
       "3        334  \n",
       "4        318  "
      ]
     },
     "execution_count": 45,
     "metadata": {},
     "output_type": "execute_result"
    }
   ],
   "source": [
    "# Feature Engineering: Aggregate transaction data per customer\n",
    "cus_data = data.groupby('CustomerID').agg(\n",
    "    total_transactions=('TransactionID', 'count'),\n",
    "    total_spent=('TotalValue', 'sum'),\n",
    "    avg_transaction_value=('TotalValue', 'mean'),\n",
    "    recency=('TransactionDate', lambda x: (pd.to_datetime('today') - pd.to_datetime(x.max())).days),\n",
    "    frequency=('TransactionDate', lambda x: (pd.to_datetime('today') - pd.to_datetime(x.min())).days)\n",
    ").reset_index()\n",
    "\n",
    "cus_data.head()"
   ]
  },
  {
   "cell_type": "code",
   "execution_count": 46,
   "id": "448b75ac-0bdb-4355-8a37-f82945718f4b",
   "metadata": {},
   "outputs": [],
   "source": [
    "# Merge with customer profile data\n",
    "cus_data = pd.merge(cus_data, customer_data[['CustomerID', 'Region']], on='CustomerID', how='left')"
   ]
  },
  {
   "cell_type": "code",
   "execution_count": 47,
   "id": "bdbdbd8d-d60c-4518-83fa-a540b377db26",
   "metadata": {},
   "outputs": [],
   "source": [
    "# Feature Scaling\n",
    "scaler = StandardScaler()\n",
    "scaled_data = scaler.fit_transform(cus_data[['total_transactions', 'total_spent', 'avg_transaction_value', 'recency', 'frequency']])"
   ]
  },
  {
   "cell_type": "code",
   "execution_count": 48,
   "id": "416c7679-1f23-472a-85bb-7edf0190a937",
   "metadata": {},
   "outputs": [
    {
     "name": "stderr",
     "output_type": "stream",
     "text": [
      "C:\\Users\\dines\\anaconda3\\Lib\\site-packages\\sklearn\\cluster\\_kmeans.py:870: FutureWarning: The default value of `n_init` will change from 10 to 'auto' in 1.4. Set the value of `n_init` explicitly to suppress the warning\n",
      "  warnings.warn(\n",
      "C:\\Users\\dines\\anaconda3\\Lib\\site-packages\\sklearn\\cluster\\_kmeans.py:1382: UserWarning: KMeans is known to have a memory leak on Windows with MKL, when there are less chunks than available threads. You can avoid it by setting the environment variable OMP_NUM_THREADS=1.\n",
      "  warnings.warn(\n",
      "C:\\Users\\dines\\anaconda3\\Lib\\site-packages\\sklearn\\cluster\\_kmeans.py:870: FutureWarning: The default value of `n_init` will change from 10 to 'auto' in 1.4. Set the value of `n_init` explicitly to suppress the warning\n",
      "  warnings.warn(\n",
      "C:\\Users\\dines\\anaconda3\\Lib\\site-packages\\sklearn\\cluster\\_kmeans.py:1382: UserWarning: KMeans is known to have a memory leak on Windows with MKL, when there are less chunks than available threads. You can avoid it by setting the environment variable OMP_NUM_THREADS=1.\n",
      "  warnings.warn(\n",
      "C:\\Users\\dines\\anaconda3\\Lib\\site-packages\\sklearn\\cluster\\_kmeans.py:870: FutureWarning: The default value of `n_init` will change from 10 to 'auto' in 1.4. Set the value of `n_init` explicitly to suppress the warning\n",
      "  warnings.warn(\n",
      "C:\\Users\\dines\\anaconda3\\Lib\\site-packages\\sklearn\\cluster\\_kmeans.py:1382: UserWarning: KMeans is known to have a memory leak on Windows with MKL, when there are less chunks than available threads. You can avoid it by setting the environment variable OMP_NUM_THREADS=1.\n",
      "  warnings.warn(\n",
      "C:\\Users\\dines\\anaconda3\\Lib\\site-packages\\sklearn\\cluster\\_kmeans.py:870: FutureWarning: The default value of `n_init` will change from 10 to 'auto' in 1.4. Set the value of `n_init` explicitly to suppress the warning\n",
      "  warnings.warn(\n",
      "C:\\Users\\dines\\anaconda3\\Lib\\site-packages\\sklearn\\cluster\\_kmeans.py:1382: UserWarning: KMeans is known to have a memory leak on Windows with MKL, when there are less chunks than available threads. You can avoid it by setting the environment variable OMP_NUM_THREADS=1.\n",
      "  warnings.warn(\n",
      "C:\\Users\\dines\\anaconda3\\Lib\\site-packages\\sklearn\\cluster\\_kmeans.py:870: FutureWarning: The default value of `n_init` will change from 10 to 'auto' in 1.4. Set the value of `n_init` explicitly to suppress the warning\n",
      "  warnings.warn(\n",
      "C:\\Users\\dines\\anaconda3\\Lib\\site-packages\\sklearn\\cluster\\_kmeans.py:1382: UserWarning: KMeans is known to have a memory leak on Windows with MKL, when there are less chunks than available threads. You can avoid it by setting the environment variable OMP_NUM_THREADS=1.\n",
      "  warnings.warn(\n",
      "C:\\Users\\dines\\anaconda3\\Lib\\site-packages\\sklearn\\cluster\\_kmeans.py:870: FutureWarning: The default value of `n_init` will change from 10 to 'auto' in 1.4. Set the value of `n_init` explicitly to suppress the warning\n",
      "  warnings.warn(\n",
      "C:\\Users\\dines\\anaconda3\\Lib\\site-packages\\sklearn\\cluster\\_kmeans.py:1382: UserWarning: KMeans is known to have a memory leak on Windows with MKL, when there are less chunks than available threads. You can avoid it by setting the environment variable OMP_NUM_THREADS=1.\n",
      "  warnings.warn(\n",
      "C:\\Users\\dines\\anaconda3\\Lib\\site-packages\\sklearn\\cluster\\_kmeans.py:870: FutureWarning: The default value of `n_init` will change from 10 to 'auto' in 1.4. Set the value of `n_init` explicitly to suppress the warning\n",
      "  warnings.warn(\n",
      "C:\\Users\\dines\\anaconda3\\Lib\\site-packages\\sklearn\\cluster\\_kmeans.py:1382: UserWarning: KMeans is known to have a memory leak on Windows with MKL, when there are less chunks than available threads. You can avoid it by setting the environment variable OMP_NUM_THREADS=1.\n",
      "  warnings.warn(\n",
      "C:\\Users\\dines\\anaconda3\\Lib\\site-packages\\sklearn\\cluster\\_kmeans.py:870: FutureWarning: The default value of `n_init` will change from 10 to 'auto' in 1.4. Set the value of `n_init` explicitly to suppress the warning\n",
      "  warnings.warn(\n",
      "C:\\Users\\dines\\anaconda3\\Lib\\site-packages\\sklearn\\cluster\\_kmeans.py:1382: UserWarning: KMeans is known to have a memory leak on Windows with MKL, when there are less chunks than available threads. You can avoid it by setting the environment variable OMP_NUM_THREADS=1.\n",
      "  warnings.warn(\n",
      "C:\\Users\\dines\\anaconda3\\Lib\\site-packages\\sklearn\\cluster\\_kmeans.py:870: FutureWarning: The default value of `n_init` will change from 10 to 'auto' in 1.4. Set the value of `n_init` explicitly to suppress the warning\n",
      "  warnings.warn(\n",
      "C:\\Users\\dines\\anaconda3\\Lib\\site-packages\\sklearn\\cluster\\_kmeans.py:1382: UserWarning: KMeans is known to have a memory leak on Windows with MKL, when there are less chunks than available threads. You can avoid it by setting the environment variable OMP_NUM_THREADS=1.\n",
      "  warnings.warn(\n"
     ]
    },
    {
     "name": "stdout",
     "output_type": "stream",
     "text": [
      "[712.7926056303126, 589.3273395058271, 490.58026427417605, 400.10935363012976, 357.05774671503946, 325.2718913677038, 298.5828819222783, 280.98261396072957, 258.2723949420519]\n"
     ]
    }
   ],
   "source": [
    "# Find the optimal number of clusters using the Elbow Method\n",
    "inertia = []\n",
    "for k in range(2, 11):\n",
    "    kmeans = KMeans(n_clusters=k, random_state=42)\n",
    "    kmeans.fit(scaled_data)\n",
    "    inertia.append(kmeans.inertia_)\n",
    "\n",
    "print(inertia)"
   ]
  },
  {
   "cell_type": "code",
   "execution_count": 49,
   "id": "ead8acf5-c103-4253-998c-1c280a32ff37",
   "metadata": {},
   "outputs": [
    {
     "data": {
      "image/png": "[encoded data removed]",
      "text/plain": [
       "<Figure size 640x480 with 1 Axes>"
      ]
     },
     "metadata": {},
     "output_type": "display_data"
    }
   ],
   "source": [
    "# Plot\n",
    "plt.plot(range(2, 11), inertia, marker='o')\n",
    "plt.title('Elbow Method for Optimal K')\n",
    "plt.xlabel('Number of Clusters')\n",
    "plt.ylabel('Inertia')\n",
    "plt.show()"
   ]
  },
  {
   "cell_type": "code",
   "execution_count": 50,
   "id": "b12e156e-303f-46f7-8a6f-3c37044f3136",
   "metadata": {},
   "outputs": [
    {
     "name": "stderr",
     "output_type": "stream",
     "text": [
      "C:\\Users\\dines\\anaconda3\\Lib\\site-packages\\sklearn\\cluster\\_kmeans.py:870: FutureWarning: The default value of `n_init` will change from 10 to 'auto' in 1.4. Set the value of `n_init` explicitly to suppress the warning\n",
      "  warnings.warn(\n",
      "C:\\Users\\dines\\anaconda3\\Lib\\site-packages\\sklearn\\cluster\\_kmeans.py:1382: UserWarning: KMeans is known to have a memory leak on Windows with MKL, when there are less chunks than available threads. You can avoid it by setting the environment variable OMP_NUM_THREADS=1.\n",
      "  warnings.warn(\n"
     ]
    }
   ],
   "source": [
    "# Based on the Elbow Method, let's assume K=4 is the optimal number of clusters\n",
    "kmeans = KMeans(n_clusters=4, random_state=42)\n",
    "cus_data['Cluster'] = kmeans.fit_predict(scaled_data)"
   ]
  },
  {
   "cell_type": "code",
   "execution_count": 51,
   "id": "13f031db-2a07-4b28-8601-42ec1225f82b",
   "metadata": {},
   "outputs": [
    {
     "name": "stdout",
     "output_type": "stream",
     "text": [
      "Silhouette Score: 0.257099993060434\n"
     ]
    }
   ],
   "source": [
    "# Evaluate the clusters using the Silhouette Score and DB Index\n",
    "sil_score = silhouette_score(scaled_data, cus_data['Cluster'])\n",
    "print(f\"Silhouette Score: {sil_score}\")"
   ]
  },
  {
   "cell_type": "code",
   "execution_count": 52,
   "id": "088ab659-26c9-4bf6-8d37-117bf63fefe8",
   "metadata": {},
   "outputs": [
    {
     "data": {
      "image/png": "[encoded data removed]",
      "text/plain": [
       "<Figure size 800x600 with 2 Axes>"
      ]
     },
     "metadata": {},
     "output_type": "display_data"
    }
   ],
   "source": [
    "# Visualize the clusters using PCA (2D plot)\n",
    "pca = PCA(n_components=2)\n",
    "pca_components = pca.fit_transform(scaled_data)\n",
    "cus_data['PCA1'] = pca_components[:, 0]\n",
    "cus_data['PCA2'] = pca_components[:, 1]\n",
    "\n",
    "plt.figure(figsize=(8, 6))\n",
    "plt.scatter(cus_data['PCA1'], cus_data['PCA2'], c=cus_data['Cluster'], cmap='viridis', marker='o')\n",
    "plt.title('Customer Segments')\n",
    "plt.xlabel('PCA1')\n",
    "plt.ylabel('PCA2')\n",
    "plt.colorbar()\n",
    "plt.show()"
   ]
  },
  {
   "cell_type": "code",
   "execution_count": 53,
   "id": "7a84bca6-11e9-4a77-bf33-226e3411f1b2",
   "metadata": {},
   "outputs": [
    {
     "name": "stdout",
     "output_type": "stream",
     "text": [
      "DB Index: 1.2072386116841094\n"
     ]
    }
   ],
   "source": [
    "# Calculate DB Index\n",
    "from sklearn.metrics import davies_bouldin_score\n",
    "db_index = davies_bouldin_score(scaled_data, cus_data['Cluster'])\n",
    "print(f\"DB Index: {db_index}\")"
   ]
  },
  {
   "cell_type": "code",
   "execution_count": 54,
   "id": "3a845781-d228-4ef5-a8a1-21f131cf39b9",
   "metadata": {},
   "outputs": [
    {
     "name": "stdout",
     "output_type": "stream",
     "text": [
      "Cluster Centers:\n",
      " [[ 0.78986212  1.07569487  0.65401036 -0.17677371  0.42570043]\n",
      " [-1.46507277 -1.27729936 -0.39691767  2.51343243 -0.04637794]\n",
      " [-0.14774479 -0.46732368 -0.46494355 -0.23520352  0.24434911]\n",
      " [-0.7305918  -0.54633428  0.03923254 -0.28377126 -1.93520596]]\n"
     ]
    }
   ],
   "source": [
    "# Show cluster centers\n",
    "print(\"Cluster Centers:\\n\", kmeans.cluster_centers_)"
   ]
  },
  {
   "cell_type": "code",
   "execution_count": 55,
   "id": "4a9a7c3a-92ab-437a-9e1e-a11d2212309a",
   "metadata": {},
   "outputs": [
    {
     "name": "stdout",
     "output_type": "stream",
     "text": [
      "\n",
      "Cluster 0 Stats:\n",
      "       total_transactions   total_spent  avg_transaction_value     recency  \\\n",
      "count           70.000000     70.000000              70.000000   70.000000   \n",
      "mean             6.757143   5433.757143             842.801735   91.571429   \n",
      "std              1.891520   1212.750125             194.072887   50.440256   \n",
      "min              3.000000   3424.320000             427.161000   30.000000   \n",
      "25%              5.000000   4577.287500             717.725937   44.500000   \n",
      "50%              7.000000   5305.725000             818.305893   84.500000   \n",
      "75%              8.000000   6016.490000             961.002500  132.750000   \n",
      "max             11.000000  10673.870000            1323.133333  262.000000   \n",
      "\n",
      "        frequency  Cluster       PCA1       PCA2  \n",
      "count   70.000000     70.0  70.000000  70.000000  \n",
      "mean   357.128571      0.0   1.502459   0.352608  \n",
      "std     37.589669      0.0   0.851426   0.970220  \n",
      "min    186.000000      0.0   0.024155  -1.547518  \n",
      "25%    345.000000      0.0   0.914681  -0.302683  \n",
      "50%    368.500000      0.0   1.558231   0.133985  \n",
      "75%    382.000000      0.0   1.991147   0.981536  \n",
      "max    393.000000      0.0   4.547384   3.040269  \n",
      "\n",
      "Cluster 1 Stats:\n",
      "       total_transactions  total_spent  avg_transaction_value    recency  \\\n",
      "count           16.000000     16.00000              16.000000   16.00000   \n",
      "mean             1.812500   1132.32500             593.376510  281.93750   \n",
      "std              1.046821    848.42606             265.316753   66.49458   \n",
      "min              1.000000    132.64000             132.640000  201.00000   \n",
      "25%              1.000000    534.34000             393.903750  235.00000   \n",
      "50%              1.000000    932.36500             626.850000  265.50000   \n",
      "75%              3.000000   1719.53250             758.518542  331.00000   \n",
      "max              4.000000   3009.29000            1007.520000  390.00000   \n",
      "\n",
      "        frequency  Cluster       PCA1       PCA2  \n",
      "count   16.000000     16.0  16.000000  16.000000  \n",
      "mean   326.125000      1.0  -2.576824   1.621297  \n",
      "std     58.183474      0.0   0.945971   1.204128  \n",
      "min    205.000000      1.0  -3.908807  -0.892315  \n",
      "25%    279.750000      1.0  -3.270190   0.959557  \n",
      "50%    354.000000      1.0  -2.583909   1.467917  \n",
      "75%    366.000000      1.0  -1.827480   2.138740  \n",
      "max    390.000000      1.0  -0.888732   3.939217  \n",
      "\n",
      "Cluster 2 Stats:\n",
      "       total_transactions  total_spent  avg_transaction_value     recency  \\\n",
      "count           87.000000    87.000000              87.000000   87.000000   \n",
      "mean             4.701149  2613.015172             577.231381   87.436782   \n",
      "std              1.495069   842.590274             187.021590   44.652066   \n",
      "min              2.000000   642.800000             214.266667   30.000000   \n",
      "25%              4.000000  2053.325000             464.320000   46.000000   \n",
      "50%              5.000000  2754.680000             578.390000   85.000000   \n",
      "75%              5.500000  3149.925000             677.626000  118.500000   \n",
      "max              9.000000  4090.840000            1278.110000  182.000000   \n",
      "\n",
      "        frequency  Cluster       PCA1       PCA2  \n",
      "count   87.000000     87.0  87.000000  87.000000  \n",
      "mean   345.218391      2.0  -0.364006  -0.360206  \n",
      "std     33.891216      0.0   0.712395   0.785065  \n",
      "min    263.000000      2.0  -2.065262  -2.116567  \n",
      "25%    321.000000      2.0  -0.776547  -0.961256  \n",
      "50%    354.000000      2.0  -0.244208  -0.378428  \n",
      "75%    374.500000      2.0   0.192622   0.070166  \n",
      "max    394.000000      2.0   0.881013   2.098636  \n",
      "\n",
      "Cluster 3 Stats:\n",
      "       total_transactions  total_spent  avg_transaction_value     recency  \\\n",
      "count           26.000000    26.000000              26.000000   26.000000   \n",
      "mean             3.423077  2468.578462             696.891558   84.000000   \n",
      "std              1.419100  1331.779970             257.417316   35.470551   \n",
      "min              1.000000    82.360000              82.360000   34.000000   \n",
      "25%              3.000000  1784.045000             589.561000   49.500000   \n",
      "50%              3.000000  2371.050000             688.618750   81.000000   \n",
      "75%              4.000000  3047.377500             838.123000  107.500000   \n",
      "max              6.000000  5158.650000            1245.720000  157.000000   \n",
      "\n",
      "        frequency  Cluster       PCA1       PCA2  \n",
      "count   26.000000     26.0  26.000000  26.000000  \n",
      "mean   202.076923      3.0  -1.241326  -0.741746  \n",
      "std     67.533650      0.0   1.201289   0.878516  \n",
      "min     34.000000      3.0  -3.991294  -3.186897  \n",
      "25%    165.500000      3.0  -1.848459  -1.205121  \n",
      "50%    219.000000      3.0  -1.111205  -0.820955  \n",
      "75%    249.250000      3.0  -0.373974  -0.043518  \n",
      "max    298.000000      3.0   0.658764   0.650203  \n"
     ]
    }
   ],
   "source": [
    "# Optional: Explore the characteristics of each cluster\n",
    "for cluster_num in range(4):\n",
    "    print(f\"\\nCluster {cluster_num} Stats:\")\n",
    "    print(cus_data[cus_data['Cluster'] == cluster_num].describe())"
   ]
  },
  {
   "cell_type": "code",
   "execution_count": 56,
   "id": "e7569d85-9ad4-44ed-a346-740c38a2b33b",
   "metadata": {},
   "outputs": [],
   "source": [
    "# Save the results as a CSV\n",
    "cus_data.to_csv('Customer_Segmentation_Results.csv', index=False)"
   ]
  },
  {
   "cell_type": "code",
   "execution_count": null,
   "id": "739aa24d-42fd-4d99-9c6a-1d41f5e7a9cd",
   "metadata": {},
   "outputs": [],
   "source": []
  }
 ],
 "metadata": {
  "kernelspec": {
   "display_name": "Python 3 (ipykernel)",
   "language": "python",
   "name": "python3"
  },
  "language_info": {
   "codemirror_mode": {
    "name": "ipython",
    "version": 3
   },
   "file_extension": ".py",
   "mimetype": "text/x-python",
   "name": "python",
   "nbconvert_exporter": "python",
   "pygments_lexer": "ipython3",
   "version": "3.11.7"
  }
 },
 "nbformat": 4,
 "nbformat_minor": 5
}
